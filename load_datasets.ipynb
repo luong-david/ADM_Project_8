{
 "cells": [
  {
   "cell_type": "code",
   "execution_count": 22,
   "metadata": {},
   "outputs": [],
   "source": [
    "import json\n",
    "import numpy as np\n",
    "import pandas as pd\n",
    "import matplotlib.pyplot as plt\n",
    "from collections import Counter\n",
    "import random\n",
    "import os\n",
    "import time"
   ]
  },
  {
   "cell_type": "markdown",
   "metadata": {},
   "source": [
    "### Load Yelp User Data"
   ]
  },
  {
   "cell_type": "code",
   "execution_count": 23,
   "metadata": {},
   "outputs": [
    {
     "name": "stdout",
     "output_type": "stream",
     "text": [
      "Reading yelp_academic_dataset_user.json\n",
      "Time taken to load user data: 23 seconds\n",
      "2189457 user records loaded\n"
     ]
    }
   ],
   "source": [
    "user_data = []\n",
    "start = time.time()\n",
    "with open('yelp_dataset/yelp_academic_dataset_user.json', encoding=\"utf8\") as fin:\n",
    "    print('Reading yelp_academic_dataset_user.json')\n",
    "    for line in fin:\n",
    "        user = json.loads(line)\n",
    "        user_data.append(user)\n",
    "end = time.time()\n",
    "duration = end-start\n",
    "print(\"Time taken to load user data: %d seconds\" %duration)\n",
    "print(str(len(user_data)) + ' user records loaded')"
   ]
  },
  {
   "cell_type": "markdown",
   "metadata": {},
   "source": [
    "### Load Yelp Business Data"
   ]
  },
  {
   "cell_type": "code",
   "execution_count": 24,
   "metadata": {},
   "outputs": [
    {
     "name": "stdout",
     "output_type": "stream",
     "text": [
      "Reading yelp_academic_dataset_business.json\n",
      "Time taken to load business data: 2 seconds\n",
      "160585 business records loaded\n"
     ]
    }
   ],
   "source": [
    "business_data = []\n",
    "start = time.time()\n",
    "with open('yelp_dataset/yelp_academic_dataset_business.json', encoding=\"utf8\") as fin:\n",
    "    print('Reading yelp_academic_dataset_business.json')\n",
    "    for line in fin:\n",
    "        business = json.loads(line)\n",
    "        business_data.append(business)\n",
    "\n",
    "end = time.time()\n",
    "duration = end-start\n",
    "print(\"Time taken to load business data: %d seconds\" %duration)\n",
    "print(str(len(business_data)) + ' business records loaded')"
   ]
  },
  {
   "cell_type": "markdown",
   "metadata": {},
   "source": [
    "### Filter businesses to only show restaurants"
   ]
  },
  {
   "cell_type": "code",
   "execution_count": 25,
   "metadata": {},
   "outputs": [
    {
     "name": "stdout",
     "output_type": "stream",
     "text": [
      "160585 business records reduced to 50763 restaurant records\n"
     ]
    }
   ],
   "source": [
    "restaurant_category = 'Restaurants'\n",
    "restaurant_data = []\n",
    "for business in business_data:\n",
    "    try:\n",
    "        if restaurant_category in business.get('categories',):\n",
    "            restaurant_data.append(business)\n",
    "    except:\n",
    "        pass\n",
    "\n",
    "print(str(len(business_data)) + ' business records reduced to ' + str(len(restaurant_data)) + ' restaurant records')"
   ]
  },
  {
   "cell_type": "markdown",
   "metadata": {},
   "source": [
    "### Filter restaurants to only show restaurants with 40 or more reviews"
   ]
  },
  {
   "cell_type": "code",
   "execution_count": 26,
   "metadata": {},
   "outputs": [
    {
     "name": "stdout",
     "output_type": "stream",
     "text": [
      "50763 restaurant records reduced to 3270 Texas restaurants with 40 or more reviews\n"
     ]
    }
   ],
   "source": [
    "TX_restaurants = [restaurant for restaurant in restaurant_data if 'TX' in restaurant.get('state')]\n",
    "TX_restaurants = [restaurant for restaurant in TX_restaurants if restaurant.get('review_count') >= 40]\n",
    "print(str(len(restaurant_data)) + ' restaurant records reduced to ' + str(len(TX_restaurants)) + ' Texas restaurants with 40 or more reviews')"
   ]
  },
  {
   "cell_type": "markdown",
   "metadata": {},
   "source": [
    "### Output filtered restaurant json file"
   ]
  },
  {
   "cell_type": "code",
   "execution_count": 27,
   "metadata": {},
   "outputs": [
    {
     "name": "stdout",
     "output_type": "stream",
     "text": [
      "Created TX_restaurants.json with 3270 Texas restaurants\n"
     ]
    }
   ],
   "source": [
    "with open('TX_restaurants.json', 'a') as outfile:\n",
    "    json.dump(TX_restaurants, outfile, indent=1)\n",
    "print('Created TX_restaurants.json with ' + str(len(TX_restaurants)) + ' Texas restaurants')"
   ]
  },
  {
   "cell_type": "markdown",
   "metadata": {},
   "source": [
    "### Parse Yelp review file and save review data"
   ]
  },
  {
   "cell_type": "code",
   "execution_count": 28,
   "metadata": {},
   "outputs": [
    {
     "name": "stdout",
     "output_type": "stream",
     "text": [
      "Reading yelp_academic_dataset_review.json\n",
      "Time taken to load review data: 52 seconds\n"
     ]
    }
   ],
   "source": [
    "# Remove all users that don't have 50 or more reviews\n",
    "min_review_count = 50\n",
    "user_data = [user for user in user_data if user.get('review_count') >= min_review_count]\n",
    "\n",
    "review_data = []\n",
    "TX_restaurants_id = set([restaurant.get('business_id') for restaurant in TX_restaurants])\n",
    "valid_user_id = set([user.get('user_id') for user in user_data])\n",
    "start = time.time()\n",
    "with open('yelp_dataset/yelp_academic_dataset_review.json', encoding=\"utf8\") as fin:\n",
    "    print('Reading yelp_academic_dataset_review.json')\n",
    "    for line in fin:\n",
    "        review = json.loads(line)\n",
    "        if review.get('business_id') in TX_restaurants_id:\n",
    "            if review.get('user_id') in valid_user_id:\n",
    "                review_data.append(review)\n",
    "\n",
    "end = time.time()\n",
    "duration_without_dr = end-start\n",
    "print(\"Time taken to load review data: %d seconds\" %duration_without_dr)"
   ]
  },
  {
   "cell_type": "markdown",
   "metadata": {},
   "source": [
    "### Only save reviews from users with more than 50 reviews on restaurants with more than 40 reviews"
   ]
  },
  {
   "cell_type": "code",
   "execution_count": 29,
   "metadata": {},
   "outputs": [
    {
     "name": "stdout",
     "output_type": "stream",
     "text": [
      "335755 review records for Texas reduced to 36966 reviews from users with 40 or more reviews and on restaurants with 40 or more reviews\n"
     ]
    }
   ],
   "source": [
    "orginal_review_count = len(review_data)\n",
    "\n",
    "while True:\n",
    "    old_review_count = len(review_data)\n",
    "    filter_user = set()\n",
    "    filter_restaurant = set()\n",
    "    user_review_count_TX = Counter(k['user_id'] for k in review_data)\n",
    "    restaurant_review_count_TX = Counter(k['business_id'] for k in review_data)\n",
    "\n",
    "    for user, user_count in user_review_count_TX.most_common():\n",
    "        if user_count >= min_review_count:\n",
    "            filter_user.add(user)\n",
    "\n",
    "    for biz, biz_count in restaurant_review_count_TX.most_common():\n",
    "        if biz_count >= 40:\n",
    "            filter_restaurant.add(biz)       \n",
    "    review_data[:] = [review for review in review_data if review.get('user_id') in filter_user and review.get('business_id') in filter_restaurant]\n",
    "    if old_review_count == len(review_data):\n",
    "        break\n",
    "print(str(orginal_review_count) + ' review records for Texas reduced to ' + str(len(review_data)) + ' reviews from users with 40 or more reviews and on restaurants with 40 or more reviews')"
   ]
  },
  {
   "cell_type": "code",
   "execution_count": 30,
   "metadata": {},
   "outputs": [
    {
     "name": "stdout",
     "output_type": "stream",
     "text": [
      "5.0    10119\n",
      "4.0    15801\n",
      "3.0     7378\n",
      "2.0     2829\n",
      "1.0      839\n",
      "Name: stars, dtype: int64\n"
     ]
    },
    {
     "data": {
      "image/png": "[encoded data removed]",
      "text/plain": [
       "<Figure size 432x288 with 1 Axes>"
      ]
     },
     "metadata": {
      "needs_background": "light"
     },
     "output_type": "display_data"
    }
   ],
   "source": [
    "df = pd.DataFrame(review_data)\n",
    "print(df['stars'].value_counts().sort_index(ascending=False))\n",
    "df.stars.value_counts().sort_index(ascending=False).plot(kind=\"bar\",title='Rating Distribution',xlabel='Star Rating',ylabel=\"Frequency\");"
   ]
  },
  {
   "cell_type": "markdown",
   "metadata": {},
   "source": [
    "### Output filtered Review json file"
   ]
  },
  {
   "cell_type": "code",
   "execution_count": 31,
   "metadata": {},
   "outputs": [
    {
     "name": "stdout",
     "output_type": "stream",
     "text": [
      "Created TX_reviews.json with 36966 reviews on Texas restaurants\n"
     ]
    }
   ],
   "source": [
    "with open('TX_reviews.json', 'a') as outfile:\n",
    "    json.dump(review_data, outfile, indent=1)\n",
    "print('Created TX_reviews.json with ' + str(len(review_data)) + ' reviews on Texas restaurants')"
   ]
  },
  {
   "cell_type": "code",
   "execution_count": 32,
   "metadata": {},
   "outputs": [
    {
     "name": "stdout",
     "output_type": "stream",
     "text": [
      "455 users in texas with more than 50 reviews on popular restaurants\n"
     ]
    }
   ],
   "source": [
    "TX_users = []\n",
    "TX_user_id = set([review.get('user_id') for review in review_data])\n",
    "for user in user_data:\n",
    "    if user.get('user_id') in TX_user_id:\n",
    "        TX_users.append(user)\n",
    "print(str(len(TX_users)) + ' users in texas with more than '+ str(max_review_count) +' reviews on popular restaurants')"
   ]
  },
  {
   "cell_type": "markdown",
   "metadata": {},
   "source": [
    "### Output filtered User json file"
   ]
  },
  {
   "cell_type": "code",
   "execution_count": 33,
   "metadata": {},
   "outputs": [
    {
     "name": "stdout",
     "output_type": "stream",
     "text": [
      "Created TX_users.json with 455 Texas Yelp users\n"
     ]
    }
   ],
   "source": [
    "with open('TX_users.json', 'a') as outfile:\n",
    "    json.dump(TX_users, outfile, indent=1)\n",
    "print('Created TX_users.json with ' + str(len(TX_users)) + ' Texas Yelp users')"
   ]
  }
 ],
 "metadata": {
  "interpreter": {
   "hash": "098d024f08efb947bc83821b103df1d72048fb3f91c311d1a333c05eca801e1a"
  },
  "kernelspec": {
   "display_name": "Python 3.9.6 64-bit",
   "language": "python",
   "name": "python3"
  },
  "language_info": {
   "codemirror_mode": {
    "name": "ipython",
    "version": 3
   },
   "file_extension": ".py",
   "mimetype": "text/x-python",
   "name": "python",
   "nbconvert_exporter": "python",
   "pygments_lexer": "ipython3",
   "version": "3.8.8"
  },
  "orig_nbformat": 4
 },
 "nbformat": 4,
 "nbformat_minor": 2
}
